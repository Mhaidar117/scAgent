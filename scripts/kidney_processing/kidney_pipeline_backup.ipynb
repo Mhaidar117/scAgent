{
 "cells": [
  {
   "cell_type": "markdown",
   "id": "fd441025",
   "metadata": {},
   "source": [
    "# scRNA-seq For Kidney Cells Pipeline"
   ]
  },
  {
   "cell_type": "code",
   "execution_count": 1,
   "id": "8d7e7940",
   "metadata": {},
   "outputs": [
    {
     "name": "stderr",
     "output_type": "stream",
     "text": [
      "/Users/michaelhaidar/Documents/Vanderbilt/Brain_Research/scAgent/scQC/lib/python3.13/site-packages/scanpy/_utils/__init__.py:33: FutureWarning: `__version__` is deprecated, use `importlib.metadata.version('anndata')` instead.\n",
      "  from anndata import __version__ as anndata_version\n",
      "/Users/michaelhaidar/Documents/Vanderbilt/Brain_Research/scAgent/scQC/lib/python3.13/site-packages/scanpy/__init__.py:24: FutureWarning: `__version__` is deprecated, use `importlib.metadata.version('anndata')` instead.\n",
      "  if Version(anndata.__version__) >= Version(\"0.11.0rc2\"):\n",
      "/Users/michaelhaidar/Documents/Vanderbilt/Brain_Research/scAgent/scQC/lib/python3.13/site-packages/scanpy/readwrite.py:16: FutureWarning: `__version__` is deprecated, use `importlib.metadata.version('anndata')` instead.\n",
      "  if Version(anndata.__version__) >= Version(\"0.11.0rc2\"):\n"
     ]
    }
   ],
   "source": [
    "# imports \n",
    "import pandas as pd\n",
    "import scanpy as sc\n",
    "import numpy as np\n",
    "import os\n",
    "import scipy\n",
    "import matplotlib.pyplot as plt\n",
    "import scipy.sparse as sp\n",
    "import scvi\n",
    "import os\n",
    "from pathlib import Path\n",
    "import seaborn as sns\n",
    "import datetime\n",
    "import openpyxl\n",
    "# # optional: nicer plots\n",
    "# sc.settings.verbosity = 2\n",
    "# sc.logging.print_header()"
   ]
  },
  {
   "cell_type": "code",
   "execution_count": 2,
   "id": "60a3f4e2",
   "metadata": {},
   "outputs": [
    {
     "name": "stdout",
     "output_type": "stream",
     "text": [
      "Testing scAR availability...\n",
      "✓ scvi-tools available (version 1.4.0)\n"
     ]
    }
   ],
   "source": [
    "print(\"Testing scAR availability...\")\n",
    "try:\n",
    "    import scvi\n",
    "    from scvi.external import SCAR\n",
    "    print(f\"✓ scvi-tools available (version {scvi.__version__})\")\n",
    "    scar_available = True\n",
    "except ImportError as e:\n",
    "    print(f\"✗ scvi-tools not available: {e}\")\n",
    "    scar_available = False\n"
   ]
  },
  {
   "cell_type": "code",
   "execution_count": 3,
   "id": "e208b4e3",
   "metadata": {},
   "outputs": [
    {
     "name": "stdout",
     "output_type": "stream",
     "text": [
      "✓ Setup complete\n",
      "  Raw H5: True\n",
      "  Filtered H5: True\n",
      "  Metadata CSV: True\n"
     ]
    }
   ],
   "source": [
    "\n",
    "# Data pathsData_files/raw_data\n",
    "DATA_DIR = Path('/Users/michaelhaidar/Documents/Vanderbilt/Brain_Research/scAgent/Data_files/raw_data')\n",
    "RAW_H5 = DATA_DIR / '7_raw_feature_bc_matrix.h5'\n",
    "FILTERED_H5 = DATA_DIR / '7_filtered_feature_bc_matrix.h5'\n",
    "META_CSV = DATA_DIR / 'metadata.xlsx - Sheet1.csv'\n",
    "\n",
    "\n",
    "print(f\"✓ Setup complete\")\n",
    "print(f\"  Raw H5: {RAW_H5.exists()}\")\n",
    "print(f\"  Filtered H5: {FILTERED_H5.exists()}\")\n",
    "print(f\"  Metadata CSV: {META_CSV.exists()}\")"
   ]
  },
  {
   "cell_type": "code",
   "execution_count": 4,
   "id": "9da1ada3",
   "metadata": {},
   "outputs": [
    {
     "name": "stdout",
     "output_type": "stream",
     "text": [
      "Loading data...\n"
     ]
    },
    {
     "name": "stderr",
     "output_type": "stream",
     "text": [
      "/Users/michaelhaidar/Documents/Vanderbilt/Brain_Research/scAgent/scQC/lib/python3.13/site-packages/anndata/_core/anndata.py:1794: UserWarning: Variable names are not unique. To make them unique, call `.var_names_make_unique`.\n",
      "  utils.warn_names_duplicates(\"var\")\n",
      "/Users/michaelhaidar/Documents/Vanderbilt/Brain_Research/scAgent/scQC/lib/python3.13/site-packages/anndata/_core/anndata.py:1794: UserWarning: Variable names are not unique. To make them unique, call `.var_names_make_unique`.\n",
      "  utils.warn_names_duplicates(\"var\")\n"
     ]
    },
    {
     "name": "stdout",
     "output_type": "stream",
     "text": [
      "✓ Data loaded\n",
      "  Raw: (1617288, 32285)\n",
      "  Filtered: (8877, 32285)\n",
      "  Sample ID: 7Dataset\n"
     ]
    },
    {
     "name": "stderr",
     "output_type": "stream",
     "text": [
      "/Users/michaelhaidar/Documents/Vanderbilt/Brain_Research/scAgent/scQC/lib/python3.13/site-packages/anndata/_core/anndata.py:1794: UserWarning: Variable names are not unique. To make them unique, call `.var_names_make_unique`.\n",
      "  utils.warn_names_duplicates(\"var\")\n",
      "/Users/michaelhaidar/Documents/Vanderbilt/Brain_Research/scAgent/scQC/lib/python3.13/site-packages/anndata/_core/anndata.py:1794: UserWarning: Variable names are not unique. To make them unique, call `.var_names_make_unique`.\n",
      "  utils.warn_names_duplicates(\"var\")\n"
     ]
    }
   ],
   "source": [
    "# Load raw and filtered data\n",
    "print(\"Loading data...\")\n",
    "raw = sc.read_10x_h5(str(RAW_H5))\n",
    "filtered = sc.read_10x_h5(str(FILTERED_H5))\n",
    "meta = pd.read_csv(str(META_CSV), index_col=0)\n",
    "\n",
    "# Make var_names unique\n",
    "raw.var_names_make_unique()\n",
    "filtered.var_names_make_unique()\n",
    "\n",
    "# Add metadata to filtered\n",
    "sample_id = meta.index[0]\n",
    "for col in meta.columns:\n",
    "    filtered.obs[col] = meta.loc[sample_id, col]\n",
    "\n",
    "# Save raw counts\n",
    "filtered.layers['counts_raw'] = filtered.X.copy()\n",
    "filtered.obs['sample_ID'] = meta.index.values[0]\n",
    "\n",
    "print(f\"✓ Data loaded\")\n",
    "print(f\"  Raw: {raw.shape}\")\n",
    "print(f\"  Filtered: {filtered.shape}\")\n",
    "print(f\"  Sample ID: {sample_id}\")"
   ]
  },
  {
   "cell_type": "code",
   "execution_count": 5,
   "id": "e2ba3cdb",
   "metadata": {},
   "outputs": [
    {
     "data": {
      "text/plain": [
       "AnnData object with n_obs × n_vars = 8877 × 32285\n",
       "    obs: 'animal_species', 'sex', 'age', 'tissue_type', 'treatment', 'processing_date', 'sample_type', 'sample_ID'\n",
       "    var: 'gene_ids', 'feature_types', 'genome'\n",
       "    layers: 'counts_raw'"
      ]
     },
     "execution_count": 5,
     "metadata": {},
     "output_type": "execute_result"
    }
   ],
   "source": [
    "filtered"
   ]
  },
  {
   "cell_type": "code",
   "execution_count": 6,
   "id": "d72e00d9",
   "metadata": {},
   "outputs": [
    {
     "data": {
      "text/plain": [
       "AnnData object with n_obs × n_vars = 1617288 × 32285\n",
       "    var: 'gene_ids', 'feature_types', 'genome'"
      ]
     },
     "execution_count": 6,
     "metadata": {},
     "output_type": "execute_result"
    }
   ],
   "source": [
    "raw"
   ]
  },
  {
   "cell_type": "markdown",
   "id": "4a5c77c1",
   "metadata": {},
   "source": [
    "### QC Metrics"
   ]
  },
  {
   "cell_type": "code",
   "execution_count": 7,
   "id": "b48d8f8b",
   "metadata": {},
   "outputs": [],
   "source": [
    "def compute_qc_metrics(adata, name=''):\n",
    "    \"\"\"Compute QC metrics for AnnData object.\"\"\"\n",
    "    X = adata.X\n",
    "    \n",
    "    if sp.issparse(X):\n",
    "        total_counts = np.ravel(X.sum(axis=1))\n",
    "        n_genes = np.ravel((X > 0).sum(axis=1))\n",
    "    else:\n",
    "        total_counts = X.sum(axis=1)\n",
    "        n_genes = (X > 0).sum(axis=1)\n",
    "    \n",
    "    adata.obs['total_counts'] = total_counts\n",
    "    adata.obs['n_genes'] = n_genes\n",
    "    \n",
    "    # Mitochondrial genes\n",
    "    mt_mask = adata.var_names.str.upper().str.startswith('MT-')\n",
    "    adata.var['mt'] = mt_mask\n",
    "    \n",
    "    if mt_mask.sum() > 0:\n",
    "        if sp.issparse(X):\n",
    "            mito_counts = np.ravel(X[:, mt_mask].sum(axis=1))\n",
    "        else:\n",
    "            mito_counts = X[:, mt_mask].sum(axis=1)\n",
    "        adata.obs['pct_mito'] = mito_counts / adata.obs['total_counts'] * 100\n",
    "    else:\n",
    "        adata.obs['pct_mito'] = 0\n",
    "    \n",
    "    metrics = {\n",
    "        'name': name,\n",
    "        'mean_total_counts': float(total_counts.mean()),\n",
    "        'median_total_counts': float(np.median(total_counts)),\n",
    "        'std_total_counts': float(total_counts.std()),\n",
    "        'mean_n_genes': float(n_genes.mean()),\n",
    "        'median_n_genes': float(np.median(n_genes)),\n",
    "        'std_n_genes': float(n_genes.std()),\n",
    "        'mean_pct_mito': float(adata.obs['pct_mito'].mean()),\n",
    "        'n_cells': adata.n_obs,\n",
    "        'n_genes': adata.n_vars\n",
    "    }\n",
    "    return metrics, adata\n",
    "\n",
    "# Compute baseline metrics\n",
    "# baseline_metrics = compute_qc_metrics(filtered.copy(), 'baseline')\n",
    "# print(\"✓ QC metrics computed\")\n",
    "# print(f\"  Mean counts: {baseline_metrics['mean_total_counts']:.2f}\")\n",
    "# print(f\"  Mean genes: {baseline_metrics['mean_n_genes']:.2f}\")\n",
    "# print(f\"  Mean % mito: {baseline_metrics['mean_pct_mito']:.2f}\")\n"
   ]
  },
  {
   "cell_type": "markdown",
   "id": "5e09ebd0",
   "metadata": {},
   "source": [
    "## Ambient RNA"
   ]
  },
  {
   "cell_type": "markdown",
   "id": "0a2e4902",
   "metadata": {},
   "source": [
    "### Ambient RNA using Knee Plot Method"
   ]
  },
  {
   "cell_type": "code",
   "execution_count": 8,
   "id": "2c4a7302",
   "metadata": {},
   "outputs": [],
   "source": [
    "def knee_plot(raw, filtered, min_counts=100):\n",
    "\n",
    "    all_droplets = pd.DataFrame(raw.X.sum(axis=1), index=raw.obs_names, columns=['total_counts'])\n",
    "    all_droplets['droplets'] = 'cell-free droplets'\n",
    "    all_droplets['droplets'] = all_droplets['droplets'].mask(all_droplets['total_counts']>min_counts, 'other droplets')\n",
    "    all_droplets['droplets'] = all_droplets['droplets'].mask(all_droplets.index.isin(filtered.obs_names), 'cells')\n",
    "    all_droplets.index.name = 'barcode'\n",
    "    all_droplets = all_droplets.sort_values(by='total_counts', ascending=False).reset_index().rename_axis(\"rank\").reset_index()\n",
    "    all_droplets = all_droplets.loc[all_droplets['total_counts']>0]\n",
    "    all_droplets = all_droplets.set_index('barcode').rename_axis('cells')\n",
    "\n",
    "    plt.figure(figsize=(3, 2), dpi=150)\n",
    "    ax = sns.lineplot(\n",
    "        data=all_droplets,\n",
    "        x='rank',\n",
    "        y='total_counts',\n",
    "        hue='droplets',\n",
    "        hue_order=['other droplets', 'cell-free droplets', 'cells'],\n",
    "        palette=sns.color_palette()[-3:],\n",
    "        markers=False,\n",
    "        lw=2,\n",
    "        ci=None\n",
    "    )\n",
    "    ax.set_xscale('log')\n",
    "    ax.set_yscale('log')\n",
    "    ax.set_xlabel('sorted droplets');\n",
    "    ax.legend(loc='lower left', ncol=1, title=None, frameon=False)\n",
    "    ax.set_title(f'kneeplot')\n",
    "    sns.set_palette('muted')\n",
    "    sns.set_style('ticks')\n",
    "    sns.despine(offset=10, trim=False)\n",
    "\n",
    "    cell_free = raw[raw.obs_names.isin(all_droplets[all_droplets['droplets']=='cell-free droplets'].index)].copy()\n",
    "    cell_free = cell_free[:, filtered.var_names]\n",
    "    # average and normalize the transcript in cell-free droplets\n",
    "    ambient_profile = pd.DataFrame((cell_free.X.sum(axis=0)/cell_free.X.sum()).A1, index=filtered.var_names, columns=['ambient profile'])\n",
    "    return ambient_profile"
   ]
  },
  {
   "cell_type": "markdown",
   "id": "ba0bc53a",
   "metadata": {},
   "source": [
    "### Ambient RNA Removal using SCAR"
   ]
  },
  {
   "cell_type": "code",
   "execution_count": 9,
   "id": "9351288f",
   "metadata": {},
   "outputs": [],
   "source": [
    "\n",
    "def denoise_with_scar(raw_adata, filtered_adata, max_epochs=10, prob=0.995):\n",
    "    \"\"\"\n",
    "    Remove ambient RNA from filtered counts using SCAR model trained on raw data.\n",
    "    \n",
    "    Follows the scVI-tools SCAR workflow:\n",
    "    1. Estimate ambient profile from raw (unfiltered) droplets\n",
    "    2. Train SCAR model to learn cell-specific denoising\n",
    "    3. Apply denoised counts to filtered cells\n",
    "    \n",
    "    Parameters:\n",
    "    -----------\n",
    "    raw_adata : AnnData\n",
    "        Raw (unfiltered) count matrix with all droplets\n",
    "    filtered_adata : AnnData\n",
    "        Filtered count matrix (cells only)\n",
    "    max_epochs : int\n",
    "        Number of epochs to train SCAR model (default: 10)\n",
    "    prob : float\n",
    "        Probability threshold for ambient profile estimation (default: 0.995)\n",
    "        Higher = more conservative in identifying cell-free droplets\n",
    "    \n",
    "    Returns:\n",
    "    --------\n",
    "    filtered_adata : AnnData\n",
    "        Updated with denoised counts in layers['denoised']\n",
    "    \"\"\"\n",
    "    \n",
    "    print(\"=\" * 60)\n",
    "    print(\"SCAR: Ambient RNA Removal\")\n",
    "    print(\"=\" * 60)\n",
    "    \n",
    "    # Step 1: Prepare raw data\n",
    "    print(\"\\n[1/6] Preparing raw data for ambient profile estimation...\")\n",
    "    raw_for_scar = raw_adata.copy()\n",
    "    filtered_for_scar = filtered_adata.copy()\n",
    "    \n",
    "    # Ensure counts layer exists\n",
    "    if 'counts' not in filtered_for_scar.layers:\n",
    "        filtered_for_scar.layers['counts'] = filtered_for_scar.X.copy()\n",
    "    \n",
    "    # Step 2: Setup SCAR for raw data\n",
    "    print(\"[2/6] Setting up SCAR for raw data...\")\n",
    "    SCAR.setup_anndata(filtered_for_scar)\n",
    "    \n",
    "    # Step 3: Estimate ambient profile using EmptyDrops-inspired method\n",
    "    print(\"[3/6] Estimating ambient profile from raw data...\")\n",
    "    print(f\"      Using probability threshold: {prob}\")\n",
    "    SCAR.get_ambient_profile(adata=filtered_for_scar, raw_adata=raw_for_scar, prob=prob)\n",
    "    print(f\"      ✓ Ambient profile saved to raw_adata.varm['ambient_profile']\")\n",
    "    \n",
    "    # Step 4: Train SCAR model on raw data\n",
    "    print(f\"[4/6] Training SCAR model on raw data (max_epochs={max_epochs})...\")\n",
    "    scar_model = SCAR(filtered_for_scar, ambient_profile=\"ambient_profile\")\n",
    "    scar_model.train(max_epochs=max_epochs)\n",
    "    print(f\"      ✓ Model trained\")\n",
    "    \n",
    "\n",
    "    # Step 5: Get denoised counts for filtered cells\n",
    "    print(\"[6/6] Generating denoised counts...\")\n",
    "    denoised_counts = scar_model.get_denoised_counts()\n",
    "\n",
    "    \n",
    "    # Store denoised counts in layers\n",
    "    filtered_adata.layers['denoised'] = denoised_counts\n",
    "    filtered_adata.obsm['X_scar'] = scar_model.get_latent_representation()\n",
    "    \n",
    "    print(\"\\n\" + \"=\" * 60)\n",
    "    print(\"✓ SCAR denoising complete!\")\n",
    "    print(\"=\" * 60)\n",
    "    print(f\"Results stored in filtered_adata.layers:\")\n",
    "    print(f\"  - 'counts'   : Original count matrix\")\n",
    "    print(f\"  - 'denoised' : Ambient-corrected counts\")\n",
    "    print(f\"\\nYou can now use filtered_adata.layers['denoised'] for downstream analysis\")\n",
    "    \n",
    "    return filtered_adata\n",
    "\n",
    "# Run SCAR denoising on filtered data using raw for ambient profile\n",
    "#filtered = denoise_with_scar(raw, filtered, max_epochs=3, prob=0.995)\n"
   ]
  },
  {
   "cell_type": "markdown",
   "id": "cc04709e",
   "metadata": {},
   "source": [
    "## Mitochondrial Genes"
   ]
  },
  {
   "cell_type": "code",
   "execution_count": 10,
   "id": "59501c4d",
   "metadata": {},
   "outputs": [],
   "source": [
    "X = filtered.X.copy()"
   ]
  },
  {
   "cell_type": "code",
   "execution_count": 11,
   "id": "598591f5",
   "metadata": {},
   "outputs": [],
   "source": [
    "def compute_mito_metrics(filtered, X):\n",
    "    # 4) percent mitochondrial genes (mouse mm10) — create var boolean and call Scanpy QC\n",
    "    # Use uppercase comparator for safety (genes like 'Mt-...' or 'mt-...')\n",
    "    mt_mask = filtered.var_names.str.upper().str.startswith('mt-')\n",
    "    filtered.var['mt'] = mt_mask\n",
    "\n",
    "    # Use scanpy convenience to compute per-cell QC stats from that var column\n",
    "    # This will add e.g. n_genes_by_counts, total_counts_mt, pct_counts_mt (names depend on scanpy version)\n",
    "    sc.pp.calculate_qc_metrics(filtered, qc_vars=['mt'], inplace=True)\n",
    "\n",
    "    # also keep a simple pct_mito column for downstream clarity (sometimes names differ)\n",
    "    if 'total_counts_mt' in filtered.obs.columns:\n",
    "        filtered.obs['pct_mito'] = filtered.obs['total_counts_mt'] / filtered.obs['total_counts'] * 100\n",
    "    elif 'pct_counts_mt' in filtered.obs.columns:\n",
    "        # Scanpy may already produce this\n",
    "        filtered.obs['pct_mito'] = filtered.obs['pct_counts_mt']\n",
    "    else:\n",
    "        # manual fallback\n",
    "        if sp.issparse(X):\n",
    "            mito_counts = np.ravel(X[:, mt_mask].sum(axis=1))\n",
    "        else:\n",
    "            mito_counts = X[:, mt_mask].sum(axis=1)\n",
    "        filtered.obs['pct_mito'] = mito_counts / filtered.obs['total_counts'] * 100\n",
    "\n",
    "    # inspect QC columns\n",
    "    filtered.obs[['total_counts', 'n_genes', 'pct_mito']].describe().T\n",
    "    return filtered\n"
   ]
  },
  {
   "cell_type": "code",
   "execution_count": 12,
   "id": "2cdd61af",
   "metadata": {},
   "outputs": [],
   "source": [
    "# # 5) Visualize QC distributions (choose thresholds after inspection)\n",
    "# fig, axes = plt.subplots(1,3, figsize=(14,4))\n",
    "# sc.pl.violin(filtered, keys='total_counts', groupby=None, show=False, ax=axes[0])\n",
    "# sc.pl.violin(filtered, keys='n_genes', groupby=None, show=False, ax=axes[1])\n",
    "# sc.pl.violin(filtered, keys='pct_mito', groupby=None, show=False, ax=axes[2])\n",
    "# plt.tight_layout()\n"
   ]
  },
  {
   "cell_type": "markdown",
   "id": "c41a5014",
   "metadata": {},
   "source": [
    "## Filter Genes"
   ]
  },
  {
   "cell_type": "code",
   "execution_count": 13,
   "id": "b2c4213e",
   "metadata": {},
   "outputs": [],
   "source": [
    "def filter_genes(filtered, min_genes=200, min_counts=500, pct_mito_thresh=10.0):\n",
    "    # 6) Suggested filtering (defaults — tune these per distributions and snRNA vs scRNA)\n",
    "    # NOTE: your meta.sample_type shows 'snRNAseq' — mitochondrial percentage often differs for nuclei (lower),\n",
    "    # so inspect distributions before aggressive mito filtering. These are starting suggestions.\n",
    "\n",
    "    # min_genes = 200          # cells with <200 genes -> drop\n",
    "    # min_counts = 500         # cells with <500 counts -> drop\n",
    "    # max_counts = np.percentile(filtered.obs['total_counts'], 99.9)  # remove extremely high outliers\n",
    "    # pct_mito_thresh = 10.0   # conservative for snRNA; increase for scRNA if needed (often 20%)\n",
    "    max_counts=np.percentile(filtered.obs['total_counts'], 99.9)\n",
    "    mask = (\n",
    "        (filtered.obs['n_genes'] >= min_genes) &\n",
    "        (filtered.obs['total_counts'] >= min_counts) &\n",
    "        (filtered.obs['total_counts'] <= max_counts) &\n",
    "        (filtered.obs['pct_mito'] <= pct_mito_thresh)\n",
    "    )\n",
    "\n",
    "    print(\"Cells before:\", filtered.n_obs)\n",
    "    filtered = filtered[mask].copy()\n",
    "    print(\"Cells after:\", filtered.n_obs)\n",
    "    return filtered\n"
   ]
  },
  {
   "cell_type": "code",
   "execution_count": 14,
   "id": "a47460d8",
   "metadata": {},
   "outputs": [],
   "source": [
    "# # 7) Filter genes: remove genes expressed in very few cells\n",
    "# min_cells = 3\n",
    "# sc.pp.filter_genes(filtered, min_cells=min_cells)\n",
    "# print(\"Vars after filtering:\", filtered.n_vars)\n"
   ]
  },
  {
   "cell_type": "code",
   "execution_count": 15,
   "id": "267278d6",
   "metadata": {},
   "outputs": [],
   "source": [
    "# # 5) Visualize QC distributions (choose thresholds after inspection)\n",
    "# fig, axes = plt.subplots(1,3, figsize=(14,4))\n",
    "# sc.pl.violin(filtered, keys='total_counts', groupby=None, show=False, ax=axes[0])\n",
    "# sc.pl.violin(filtered, keys='n_genes', groupby=None, show=False, ax=axes[1])\n",
    "# sc.pl.violin(filtered, keys='pct_mito', groupby=None, show=False, ax=axes[2])\n",
    "# plt.tight_layout()\n"
   ]
  },
  {
   "cell_type": "markdown",
   "id": "868ca894",
   "metadata": {},
   "source": [
    "## Doublet Detection"
   ]
  },
  {
   "cell_type": "code",
   "execution_count": 16,
   "id": "49a7ba39",
   "metadata": {},
   "outputs": [],
   "source": [
    "import numpy as np\n",
    "import scanpy as sc\n",
    "from sklearn.decomposition import PCA\n",
    "from sklearn.neighbors import NearestNeighbors\n",
    "import pandas as pd\n",
    "\n",
    "def doubletfinder_style(adata, expected_doublet_rate=0.06, pN=0.25, pK=0.01, \n",
    "                        n_prin_comps=30, use_sct=False):\n",
    "    \"\"\"\n",
    "    Python implementation mimicking DoubletFinder's approach\n",
    "    \"\"\"\n",
    "    # Get counts matrix\n",
    "    if 'counts' in adata.layers:\n",
    "        counts = adata.layers['counts'].copy()\n",
    "    else:\n",
    "        counts = adata.X.copy()\n",
    "    \n",
    "    # Convert to dense if sparse\n",
    "    if scipy.sparse.issparse(counts):\n",
    "        counts = counts.toarray()\n",
    "    \n",
    "    n_cells = counts.shape[0]\n",
    "    \n",
    "    # Step 1: Generate artificial doublets\n",
    "    n_doublets = int(n_cells * 2)  # typically 2x the number of real cells\n",
    "    doublet_ids = np.random.choice(n_cells, size=(n_doublets, 2))\n",
    "    artificial_doublets = counts[doublet_ids[:, 0]] + counts[doublet_ids[:, 1]]\n",
    "    \n",
    "    # Step 2: Combine real and artificial cells\n",
    "    combined = np.vstack([counts, artificial_doublets])\n",
    "    \n",
    "    # Step 3: Normalize and PCA\n",
    "    # Create temporary AnnData for processing\n",
    "    combined_adata = sc.AnnData(combined)\n",
    "    sc.pp.normalize_total(combined_adata, target_sum=1e4)\n",
    "    sc.pp.log1p(combined_adata)\n",
    "    sc.pp.scale(combined_adata)\n",
    "    \n",
    "    # PCA\n",
    "    sc.tl.pca(combined_adata, n_comps=n_prin_comps)\n",
    "    pca_coords = combined_adata.obsm['X_pca']\n",
    "    \n",
    "    # Step 4: Calculate pANN for each real cell\n",
    "    real_coords = pca_coords[:n_cells]\n",
    "    all_coords = pca_coords\n",
    "    \n",
    "    # Find optimal pK using BCmvn (this is simplified)\n",
    "    if pK == 'auto':\n",
    "        pK = 0.01  # Default, in practice you'd sweep parameters\n",
    "    \n",
    "    k = int(pK * n_cells)\n",
    "    \n",
    "    # Calculate nearest neighbors\n",
    "    nn = NearestNeighbors(n_neighbors=k, algorithm='auto')\n",
    "    nn.fit(all_coords)\n",
    "    distances, indices = nn.kneighbors(real_coords)\n",
    "    \n",
    "    # Calculate pANN (proportion of artificial nearest neighbors)\n",
    "    pANN = np.zeros(n_cells)\n",
    "    for i in range(n_cells):\n",
    "        neighbors = indices[i]\n",
    "        pANN[i] = np.sum(neighbors >= n_cells) / k\n",
    "    \n",
    "    # Step 5: Classify doublets based on expected rate\n",
    "    n_doublets_expected = int(expected_doublet_rate * n_cells)\n",
    "    threshold_idx = np.argsort(pANN)[-n_doublets_expected]\n",
    "    threshold = pANN[threshold_idx]\n",
    "    \n",
    "    # Classify\n",
    "    doublet_class = np.where(pANN >= threshold, 'Doublet', 'Singlet')\n",
    "    \n",
    "    # Add to adata\n",
    "    adata.obs['pANN'] = pANN\n",
    "    adata.obs['DF.class'] = doublet_class\n",
    "    \n",
    "    return adata"
   ]
  },
  {
   "cell_type": "markdown",
   "id": "d166f1cf",
   "metadata": {},
   "source": [
    "### Manual Doublet Curation based on Marker Expression"
   ]
  },
  {
   "cell_type": "code",
   "execution_count": 17,
   "id": "07de6f7c",
   "metadata": {},
   "outputs": [],
   "source": [
    "def identify_doublet_clusters(adata, marker_dict, avg_exp_threshold=2.0):\n",
    "    \"\"\"\n",
    "    Identify potential doublet clusters based on marker expression patterns\n",
    "    \n",
    "    Parameters:\n",
    "    -----------\n",
    "    adata : AnnData object with clusters identified\n",
    "    marker_dict : dict of cell type markers\n",
    "    avg_exp_threshold : threshold for considering expression significant\n",
    "    \"\"\"\n",
    "    \n",
    "    # Calculate average expression per cluster\n",
    "    cluster_key = 'leiden'  # or your cluster column\n",
    "    \n",
    "    # Get expression data for markers\n",
    "    all_markers = []\n",
    "    for cell_type, markers in marker_dict.items():\n",
    "        all_markers.extend(markers)\n",
    "    all_markers = list(set(all_markers))\n",
    "    \n",
    "    # Filter to markers present in data\n",
    "    present_markers = [m for m in all_markers if m in adata.var_names]\n",
    "    \n",
    "    # Calculate mean expression per cluster\n",
    "    cluster_expression = pd.DataFrame()\n",
    "    for cluster in adata.obs[cluster_key].unique():\n",
    "        mask = adata.obs[cluster_key] == cluster\n",
    "        cluster_data = adata[mask, present_markers]\n",
    "        \n",
    "        # Use raw or normalized data\n",
    "        if 'counts' in cluster_data.layers:\n",
    "            expr_data = cluster_data.layers['counts']\n",
    "        else:\n",
    "            expr_data = cluster_data.X\n",
    "            \n",
    "        if scipy.sparse.issparse(expr_data):\n",
    "            mean_expr = np.array(expr_data.mean(axis=0)).flatten()\n",
    "        else:\n",
    "            mean_expr = expr_data.mean(axis=0)\n",
    "            \n",
    "        cluster_expression[cluster] = mean_expr\n",
    "    \n",
    "    cluster_expression.index = present_markers\n",
    "    \n",
    "    # Identify doublet clusters\n",
    "    # Look for clusters expressing markers from multiple incompatible cell types\n",
    "    doublet_clusters = []\n",
    "    \n",
    "    for cluster in cluster_expression.columns:\n",
    "        expr = cluster_expression[cluster]\n",
    "        \n",
    "        # Check if cluster has low overall expression (potential doublet)\n",
    "        if (expr < avg_exp_threshold).all():\n",
    "            doublet_clusters.append(cluster)\n",
    "            continue\n",
    "            \n",
    "        # Check for co-expression of incompatible markers\n",
    "        cell_types_expressed = []\n",
    "        for cell_type, markers in marker_dict.items():\n",
    "            markers_present = [m for m in markers if m in present_markers]\n",
    "            if any(expr[m] > avg_exp_threshold for m in markers_present):\n",
    "                cell_types_expressed.append(cell_type)\n",
    "        \n",
    "        # If expressing markers from incompatible cell types\n",
    "        incompatible_pairs = [\n",
    "            ('Proximal_Tubule', 'Endothelial'),\n",
    "            ('Proximal_Tubule', 'Fibroblast'),\n",
    "            ('Proximal_Tubule', 'TAL'),\n",
    "            # Add more incompatible pairs\n",
    "        ]\n",
    "        \n",
    "        for pair in incompatible_pairs:\n",
    "            if pair[0] in cell_types_expressed and pair[1] in cell_types_expressed:\n",
    "                doublet_clusters.append(cluster)\n",
    "                break\n",
    "    \n",
    "    return list(set(doublet_clusters)), cluster_expression\n",
    "    "
   ]
  },
  {
   "cell_type": "markdown",
   "id": "f9621f36",
   "metadata": {},
   "source": [
    "## Cell Type Annotation "
   ]
  },
  {
   "cell_type": "code",
   "execution_count": 18,
   "id": "5ea55811",
   "metadata": {},
   "outputs": [],
   "source": [
    "def annotate_kidney_cells(adata, cluster_key='leiden'):\n",
    "    \"\"\"\n",
    "    Annotate kidney cells based on marker expression\n",
    "    Following the hierarchy: subclass -> class -> type\n",
    "    \"\"\"\n",
    "    \n",
    "    # Define kidney cell markers (from R framework)\n",
    "    kidney_markers = {\n",
    "        'PTS1': ['Lrp2', 'Slc5a12'],\n",
    "        'PTS2': ['Lrp2', 'Slc13a3'],\n",
    "        'PTS3': ['Lrp2', 'Slc16a9'],\n",
    "        'DTL': ['Epha7', 'Cryab'],\n",
    "        'TALA': ['Slc12a1', 'Cldn16'],\n",
    "        'TALB': ['Slc12a1', 'Cldn10'],\n",
    "        'MD': ['Nos1', 'Slc12a1'],\n",
    "        'DCT1': ['Slc12a3', 'Egf'],\n",
    "        'DCT2': ['Slc12a3', 'Slc8a1'],\n",
    "        'CNT': ['Slc8a1'],\n",
    "        'PC': ['Aqp2'],\n",
    "        'ICA': ['Slc4a1', 'Kit'],\n",
    "        'ICB': ['Slc26a4'],\n",
    "        'PODO': ['Nphs1', 'Nphs2'],\n",
    "        'EC': ['Flt1', 'Emcn', 'Pecam1'],\n",
    "        'FIB': ['Pdgfra', 'Col1a1'],\n",
    "        'MES': ['Pdgfrb', 'Piezo2'],\n",
    "        'LYMPHO': ['Ptprc', 'Skap1'],\n",
    "        'MACRO': ['Ptprc', 'Cd74', 'Cd68']\n",
    "    }\n",
    "    \n",
    "    # Score each cluster for each cell type\n",
    "    def score_cluster(adata, cluster_id, markers):\n",
    "        \"\"\"Calculate marker score for a cluster\"\"\"\n",
    "        cluster_cells = adata.obs[cluster_key] == cluster_id\n",
    "        present_markers = [m for m in markers if m in adata.var_names]\n",
    "        \n",
    "        if not present_markers:\n",
    "            return 0\n",
    "        \n",
    "        # Get expression\n",
    "        expr = adata[cluster_cells, present_markers].X\n",
    "        if scipy.sparse.issparse(expr):\n",
    "            expr = expr.toarray()\n",
    "        \n",
    "        # Calculate percentage of cells expressing and mean expression\n",
    "        pct_expressing = (expr > 0).mean(axis=0)\n",
    "        mean_expr = expr.mean(axis=0)\n",
    "        \n",
    "        # Combined score\n",
    "        score = np.mean(pct_expressing) * np.mean(mean_expr)\n",
    "        return score\n",
    "    \n",
    "    # Annotate each cluster\n",
    "    cluster_annotations = {}\n",
    "    \n",
    "    for cluster in adata.obs[cluster_key].unique():\n",
    "        scores = {}\n",
    "        for cell_type, markers in kidney_markers.items():\n",
    "            scores[cell_type] = score_cluster(adata, cluster, markers)\n",
    "        \n",
    "        # Assign to highest scoring cell type\n",
    "        if max(scores.values()) > 0:\n",
    "            cluster_annotations[cluster] = max(scores, key=scores.get)\n",
    "        else:\n",
    "            cluster_annotations[cluster] = 'Unknown'\n",
    "    \n",
    "    # Add annotations to adata\n",
    "    adata.obs['subclass'] = adata.obs[cluster_key].map(cluster_annotations)\n",
    "    \n",
    "    # Define hierarchical mappings\n",
    "    subclass_to_class = {\n",
    "        'PTS1': 'PT', 'PTS2': 'PT', 'PTS3': 'PT',\n",
    "        'DTL': 'DTL',\n",
    "        'TALA': 'TAL', 'TALB': 'TAL', 'MD': 'TAL',\n",
    "        'DCT1': 'DCT', 'DCT2': 'DCT',\n",
    "        'CNT': 'CNT',\n",
    "        'PC': 'PC',\n",
    "        'ICA': 'ICA', 'ICB': 'ICB',\n",
    "        'PODO': 'PODO',\n",
    "        'EC': 'EC',\n",
    "        'FIB': 'FIB',\n",
    "        'MES': 'MES',\n",
    "        'LYMPHO': 'IMMUNE', 'MACRO': 'IMMUNE'\n",
    "    }\n",
    "    \n",
    "    class_to_type = {\n",
    "        'PT': 'EPITHELIAL', 'DTL': 'EPITHELIAL', 'TAL': 'EPITHELIAL',\n",
    "        'DCT': 'EPITHELIAL', 'CNT': 'EPITHELIAL', 'PC': 'EPITHELIAL',\n",
    "        'ICA': 'EPITHELIAL', 'ICB': 'EPITHELIAL', 'PODO': 'EPITHELIAL',\n",
    "        'EC': 'ENDOTHELIAL',\n",
    "        'FIB': 'STROMAL', 'MES': 'STROMAL',\n",
    "        'IMMUNE': 'IMMUNE'\n",
    "    }\n",
    "    \n",
    "    adata.obs['class'] = adata.obs['subclass'].map(subclass_to_class)\n",
    "    adata.obs['type'] = adata.obs['class'].map(class_to_type)\n",
    "    \n",
    "    return adata\n"
   ]
  },
  {
   "cell_type": "markdown",
   "id": "3caa4051",
   "metadata": {},
   "source": [
    "### Multidimensional DotPlot"
   ]
  },
  {
   "cell_type": "code",
   "execution_count": 19,
   "id": "bd7b8d64",
   "metadata": {},
   "outputs": [],
   "source": [
    "def create_kidney_dotplot(adata, markers=None, groupby='subclass', \n",
    "                          save_path=None, figsize=(12, 8)):\n",
    "    \"\"\"\n",
    "    Create a dotplot similar to Seurat's DotPlot for kidney markers\n",
    "    \"\"\"\n",
    "    \n",
    "    if markers is None:\n",
    "        # Default kidney markers\n",
    "        markers = [\n",
    "            'Lrp2', 'Slc5a12', 'Slc13a3', 'Slc16a9',  # PT\n",
    "            'Epha7', 'Cryab',  # DTL\n",
    "            'Slc12a1', 'Cldn16', 'Cldn10', 'Nos1',  # TAL\n",
    "            'Slc12a3', 'Egf', 'Slc8a1',  # DCT/CNT\n",
    "            'Aqp2',  # PC\n",
    "            'Slc4a1', 'Kit', 'Slc26a4',  # IC\n",
    "            'Nphs1',  # PODO\n",
    "            'Flt1', 'Emcn',  # EC\n",
    "            'Pdgfra', 'Pdgfrb', 'Piezo2',  # FIB/MES\n",
    "            'Ptprc', 'Cd74'  # IMMUNE\n",
    "        ]\n",
    "    \n",
    "    # Filter to present markers\n",
    "    markers_present = [m for m in markers if m in adata.var_names]\n",
    "    \n",
    "    # Create the dotplot\n",
    "    sc.pl.dotplot(\n",
    "        adata,\n",
    "        markers_present,\n",
    "        groupby=groupby,\n",
    "        dendrogram=False,\n",
    "        standard_scale='var',\n",
    "        swap_axes=True,\n",
    "        figsize=figsize,\n",
    "        save=save_path,\n",
    "        return_fig=True\n",
    "    )\n",
    "    \n",
    "    return markers_present"
   ]
  },
  {
   "cell_type": "markdown",
   "id": "da95c2dd",
   "metadata": {},
   "source": [
    "### QC Summary Stats"
   ]
  },
  {
   "cell_type": "code",
   "execution_count": 20,
   "id": "11f474ee",
   "metadata": {},
   "outputs": [],
   "source": [
    "def generate_qc_report(adata, sample_name, output_dir='./outputs'):\n",
    "    \"\"\"\n",
    "    Generate comprehensive QC report matching the R framework\n",
    "    \"\"\"\n",
    "    import os\n",
    "    from datetime import datetime\n",
    "    \n",
    "    os.makedirs(output_dir, exist_ok=True)\n",
    "    \n",
    "    report = {\n",
    "        'Sample': sample_name,\n",
    "        'Date': datetime.now().strftime('%Y-%m-%d'),\n",
    "        'Initial_Cells': adata.n_obs,\n",
    "        'Final_Cells': adata.n_obs,\n",
    "        'Genes_Detected': adata.n_vars,\n",
    "        'Filtering_Steps': []\n",
    "    }\n",
    "    \n",
    "    # Track filtering\n",
    "    if 'DF.class' in adata.obs.columns:\n",
    "        n_doublets = (adata.obs['DF.class'] == 'Doublet').sum()\n",
    "        report['Filtering_Steps'].append(f\"DoubletFinder: {n_doublets} cells removed\")\n",
    "    \n",
    "    # Cell type composition\n",
    "    if 'subclass' in adata.obs.columns:\n",
    "        composition = adata.obs['subclass'].value_counts()\n",
    "        report['Cell_Type_Composition'] = composition.to_dict()\n",
    "        \n",
    "        # Missing cell types\n",
    "        expected_types = ['PTS1', 'PTS2', 'PTS3', 'DTL', 'TALA', 'TALB', \n",
    "                          'DCT1', 'DCT2', 'CNT', 'PC', 'ICA', 'ICB', \n",
    "                          'PODO', 'EC', 'FIB', 'MES']\n",
    "        missing = [t for t in expected_types if t not in composition.index]\n",
    "        report['Missing_Cell_Types'] = missing\n",
    "    \n",
    "    # Save report\n",
    "    import json\n",
    "    with open(f\"{output_dir}/{sample_name}_qc_report.json\", 'w') as f:\n",
    "        json.dump(report, f, indent=2, default=str)\n",
    "    \n",
    "    return report"
   ]
  },
  {
   "cell_type": "markdown",
   "id": "5492d5fb",
   "metadata": {},
   "source": [
    "## Find and Export Markers to Excel"
   ]
  },
  {
   "cell_type": "code",
   "execution_count": 21,
   "id": "4ab5229f",
   "metadata": {},
   "outputs": [],
   "source": [
    "def find_all_markers(adata, groupby='subclass', output_path=None):\n",
    "    \"\"\"\n",
    "    Find markers for all groups and export to Excel\n",
    "    \"\"\"\n",
    "    import pandas as pd\n",
    "    from datetime import datetime\n",
    "    \n",
    "    # Run differential expression\n",
    "    sc.tl.rank_genes_groups(adata, groupby, method='wilcoxon', \n",
    "                            pts=True, key_added='rank_genes')\n",
    "    \n",
    "    # Extract results\n",
    "    result = adata.uns['rank_genes']\n",
    "    groups = result['names'].dtype.names\n",
    "    \n",
    "    # Create Excel writer\n",
    "    if output_path is None:\n",
    "        date = datetime.now().strftime('%Y%m%d')\n",
    "        output_path = f\"{date}_FindAllMarkers_By_{groupby}.xlsx\"\n",
    "    \n",
    "    with pd.ExcelWriter(output_path, engine='openpyxl') as writer:\n",
    "        for group in groups:\n",
    "            # Get markers for this group\n",
    "            df = sc.get.rank_genes_groups_df(adata, group=group, \n",
    "                                            key='rank_genes')\n",
    "            \n",
    "            # Sort by log fold change\n",
    "            df = df.sort_values('logfoldchanges', ascending=False)\n",
    "            \n",
    "            # Write to Excel\n",
    "            df.to_excel(writer, sheet_name=str(group), index=False)\n",
    "    \n",
    "    print(f\"Markers saved to {output_path}\")\n",
    "    return output_path"
   ]
  },
  {
   "cell_type": "markdown",
   "id": "a1a129c7",
   "metadata": {},
   "source": [
    "# Integration Function"
   ]
  },
  {
   "cell_type": "code",
   "execution_count": 26,
   "id": "f5915940",
   "metadata": {},
   "outputs": [
    {
     "name": "stdout",
     "output_type": "stream",
     "text": [
      "Step 1: Ambient RNA correction...\n",
      "============================================================\n",
      "SCAR: Ambient RNA Removal\n",
      "============================================================\n",
      "\n",
      "[1/6] Preparing raw data for ambient profile estimation...\n",
      "[2/6] Setting up SCAR for raw data...\n",
      "[3/6] Estimating ambient profile from raw data...\n",
      "      Using probability threshold: 0.995\n",
      "Randomly sampling 50000 droplets to calculate the ambient profile.\n"
     ]
    },
    {
     "data": {
      "application/vnd.jupyter.widget-view+json": {
       "model_id": "42ae3eade86045f0ac9541e67924e04e",
       "version_major": 2,
       "version_minor": 0
      },
      "text/plain": [
       "Working...:   0%|          | 0/3 [00:00<?, ?it/s]"
      ]
     },
     "metadata": {},
     "output_type": "display_data"
    },
    {
     "name": "stderr",
     "output_type": "stream",
     "text": [
      "/Users/michaelhaidar/Documents/Vanderbilt/Brain_Research/scAgent/scQC/lib/python3.13/site-packages/scvi/external/scar/_model.py:252: ImplicitModificationWarning: Trying to modify attribute `.obs` of view, initializing view as actual.\n",
      "  raw_adata.obs[\"log_prob\"] = log_prob\n",
      "/Users/michaelhaidar/Documents/Vanderbilt/Brain_Research/scAgent/scQC/lib/python3.13/site-packages/scvi/train/_trainrunner.py:82: UserWarning: `accelerator` has been automatically set to `cpu` although 'mps' exists. If you wish to run on mps backend, use explicitly accelerator='mps' in train function.In future releases it will become default for mps supported machines.\n",
      "  accelerator, lightning_devices, device = parse_device_args(\n",
      "GPU available: True (mps), used: False\n",
      "TPU available: False, using: 0 TPU cores\n",
      "HPU available: False, using: 0 HPUs\n"
     ]
    },
    {
     "name": "stdout",
     "output_type": "stream",
     "text": [
      "      ✓ Ambient profile saved to raw_adata.varm['ambient_profile']\n",
      "[4/6] Training SCAR model on raw data (max_epochs=10)...\n"
     ]
    },
    {
     "name": "stderr",
     "output_type": "stream",
     "text": [
      "/Users/michaelhaidar/Documents/Vanderbilt/Brain_Research/scAgent/scQC/lib/python3.13/site-packages/lightning/pytorch/trainer/setup.py:177: GPU available but not used. You can set it by doing `Trainer(accelerator='gpu')`.\n",
      "/Users/michaelhaidar/Documents/Vanderbilt/Brain_Research/scAgent/scQC/lib/python3.13/site-packages/lightning/pytorch/trainer/connectors/data_connector.py:433: The 'train_dataloader' does not have many workers which may be a bottleneck. Consider increasing the value of the `num_workers` argument` to `num_workers=13` in the `DataLoader` to improve performance.\n"
     ]
    },
    {
     "data": {
      "application/vnd.jupyter.widget-view+json": {
       "model_id": "dba9fe899cdd4f0d9b499ad26c8d84a7",
       "version_major": 2,
       "version_minor": 0
      },
      "text/plain": [
       "Training:   0%|          | 0/10 [00:00<?, ?it/s]"
      ]
     },
     "metadata": {},
     "output_type": "display_data"
    },
    {
     "name": "stderr",
     "output_type": "stream",
     "text": [
      "`Trainer.fit` stopped: `max_epochs=10` reached.\n"
     ]
    },
    {
     "name": "stdout",
     "output_type": "stream",
     "text": [
      "      ✓ Model trained\n",
      "[6/6] Generating denoised counts...\n",
      "\n",
      "============================================================\n",
      "✓ SCAR denoising complete!\n",
      "============================================================\n",
      "Results stored in filtered_adata.layers:\n",
      "  - 'counts'   : Original count matrix\n",
      "  - 'denoised' : Ambient-corrected counts\n",
      "\n",
      "You can now use filtered_adata.layers['denoised'] for downstream analysis\n",
      "Step 2: QC filtering...\n",
      "QC report generated for Kidney_7 after step 1: {'name': 'after_scar', 'mean_total_counts': 6366.947265625, 'median_total_counts': 3929.0, 'std_total_counts': 10179.990234375, 'mean_n_genes': 2255.7118395854454, 'median_n_genes': 1877.0, 'std_n_genes': 1535.7098537351583, 'mean_pct_mito': 0.6923648715019226, 'n_cells': 8877, 'n_genes': 32285}\n",
      "AnnData object with n_obs × n_vars = 8877 × 32285\n",
      "    obs: 'animal_species', 'sex', 'age', 'tissue_type', 'treatment', 'processing_date', 'sample_type', 'sample_ID', 'total_counts', 'n_genes', 'pct_mito'\n",
      "    var: 'gene_ids', 'feature_types', 'genome', 'mt'\n",
      "    obsm: 'X_scar'\n",
      "    layers: 'counts_raw', 'denoised'\n",
      "Cells before: 8877\n",
      "Cells after: 8848\n",
      "Step 3: Running DoubletFinder-style detection...\n"
     ]
    },
    {
     "name": "stderr",
     "output_type": "stream",
     "text": [
      "/Users/michaelhaidar/Documents/Vanderbilt/Brain_Research/scAgent/scQC/lib/python3.13/site-packages/scanpy/preprocessing/_pca/__init__.py:245: FutureWarning: `__version__` is deprecated, use `importlib.metadata.version('anndata')` instead.\n",
      "  Version(ad.__version__) < Version(\"0.9\")\n"
     ]
    },
    {
     "name": "stdout",
     "output_type": "stream",
     "text": [
      "Step 4: Clustering...\n"
     ]
    },
    {
     "name": "stderr",
     "output_type": "stream",
     "text": [
      "/opt/homebrew/Cellar/python@3.13/3.13.9/Frameworks/Python.framework/Versions/3.13/lib/python3.13/functools.py:934: UserWarning: zero-centering a sparse array/matrix densifies it.\n",
      "  return dispatch(args[0].__class__)(*args, **kw)\n",
      "/Users/michaelhaidar/Documents/Vanderbilt/Brain_Research/scAgent/scQC/lib/python3.13/site-packages/scanpy/preprocessing/_pca/__init__.py:245: FutureWarning: `__version__` is deprecated, use `importlib.metadata.version('anndata')` instead.\n",
      "  Version(ad.__version__) < Version(\"0.9\")\n",
      "/Users/michaelhaidar/Documents/Vanderbilt/Brain_Research/scAgent/scQC/lib/python3.13/site-packages/scanpy/neighbors/__init__.py:430: FutureWarning: Use obsm (e.g. `k in adata.obsm` or `adata.obsm.keys() | {'u'}`) instead of AnnData.obsm_keys, AnnData.obsm_keys is deprecated and will be removed in the future.\n",
      "  if \"X_diffmap\" in adata.obsm_keys():\n"
     ]
    },
    {
     "name": "stdout",
     "output_type": "stream",
     "text": [
      "Step 5: Manual doublet curation...\n",
      "Step 6: Annotating cell types...\n",
      "Step 7: Creating visualizations...\n",
      "WARNING: saving figure to file figures/umap_Kidney_7_annotation.pdf\n"
     ]
    },
    {
     "data": {
      "image/png": "[encoded data removed]",
      "text/plain": [
       "<Figure size 2183.4x480 with 3 Axes>"
      ]
     },
     "metadata": {},
     "output_type": "display_data"
    },
    {
     "name": "stderr",
     "output_type": "stream",
     "text": [
      "/Users/michaelhaidar/Documents/Vanderbilt/Brain_Research/scAgent/scQC/lib/python3.13/site-packages/scanpy/plotting/_anndata.py:2074: FutureWarning: Use obs (e.g. `k in adata.obs` or `str(adata.obs.columns.tolist())`) instead of AnnData.obs_keys, AnnData.obs_keys is deprecated and will be removed in the future.\n",
      "  if group not in [*adata.obs_keys(), adata.obs.index.name]:\n"
     ]
    },
    {
     "name": "stdout",
     "output_type": "stream",
     "text": [
      "Step 8: Finding markers...\n"
     ]
    },
    {
     "name": "stderr",
     "output_type": "stream",
     "text": [
      "/Users/michaelhaidar/Documents/Vanderbilt/Brain_Research/scAgent/scQC/lib/python3.13/site-packages/scanpy/tools/_rank_genes_groups.py:482: RuntimeWarning: invalid value encountered in log2\n",
      "  self.stats[group_name, \"logfoldchanges\"] = np.log2(\n",
      "/Users/michaelhaidar/Documents/Vanderbilt/Brain_Research/scAgent/scQC/lib/python3.13/site-packages/scanpy/tools/_rank_genes_groups.py:482: RuntimeWarning: invalid value encountered in log2\n",
      "  self.stats[group_name, \"logfoldchanges\"] = np.log2(\n",
      "/Users/michaelhaidar/Documents/Vanderbilt/Brain_Research/scAgent/scQC/lib/python3.13/site-packages/scanpy/tools/_rank_genes_groups.py:482: RuntimeWarning: invalid value encountered in log2\n",
      "  self.stats[group_name, \"logfoldchanges\"] = np.log2(\n",
      "/Users/michaelhaidar/Documents/Vanderbilt/Brain_Research/scAgent/scQC/lib/python3.13/site-packages/scanpy/tools/_rank_genes_groups.py:482: RuntimeWarning: invalid value encountered in log2\n",
      "  self.stats[group_name, \"logfoldchanges\"] = np.log2(\n",
      "/Users/michaelhaidar/Documents/Vanderbilt/Brain_Research/scAgent/scQC/lib/python3.13/site-packages/scanpy/tools/_rank_genes_groups.py:482: RuntimeWarning: invalid value encountered in log2\n",
      "  self.stats[group_name, \"logfoldchanges\"] = np.log2(\n",
      "/Users/michaelhaidar/Documents/Vanderbilt/Brain_Research/scAgent/scQC/lib/python3.13/site-packages/scanpy/tools/_rank_genes_groups.py:482: RuntimeWarning: invalid value encountered in log2\n",
      "  self.stats[group_name, \"logfoldchanges\"] = np.log2(\n"
     ]
    },
    {
     "name": "stdout",
     "output_type": "stream",
     "text": [
      "Markers saved to 20251018_FindAllMarkers_By_subclass.xlsx\n",
      "Step 9: Generating QC report...\n",
      "QC report generated for Kidney_7 after step 9: {'Sample': 'Kidney_7', 'Date': '2025-10-18', 'Initial_Cells': 2709, 'Final_Cells': 2709, 'Genes_Detected': 32285, 'Filtering_Steps': ['DoubletFinder: 0 cells removed'], 'Cell_Type_Composition': {'PTS1': 814, 'EC': 655, 'FIB': 460, 'TALB': 418, 'TALA': 331, 'MD': 31}, 'Missing_Cell_Types': ['PTS2', 'PTS3', 'DTL', 'DCT1', 'DCT2', 'CNT', 'PC', 'ICA', 'ICB', 'PODO', 'MES']}\n",
      "Step 10: Saving results...\n",
      "Analysis complete!\n"
     ]
    }
   ],
   "source": [
    "def complete_kidney_analysis_pipeline(adata, sample_name, raw_adata):\n",
    "    \"\"\"\n",
    "    Complete kidney scRNAseq analysis pipeline\n",
    "    \"\"\"\n",
    "    \n",
    "    # 1. Ambient RNA correction (already done in your code)\n",
    "    print(\"Step 1: Ambient RNA correction...\")\n",
    "    adata = denoise_with_scar(raw_adata, adata, max_epochs=10, prob=0.995)\n",
    "    \n",
    "    # 2. Quality control filtering (already done)\n",
    "    print(\"Step 2: QC filtering...\")\n",
    "    metrics_after_scar,adata = compute_qc_metrics(adata.copy(), 'after_scar')\n",
    "    print(f\"QC report generated for {sample_name} after step 1: {metrics_after_scar}\")\n",
    "\n",
    "    print(adata)\n",
    "\n",
    "    adata = filter_genes(adata.copy(), min_genes=200, min_counts=500, pct_mito_thresh=10.0)\n",
    "\n",
    "    \n",
    "    # 3. Enhanced doublet detection\n",
    "    print(\"Step 3: Running DoubletFinder-style detection...\")\n",
    "    adata = doubletfinder_style(adata, expected_doublet_rate=0.06)\n",
    "    \n",
    "    # Remove doublets\n",
    "    adata = adata[adata.obs['DF.class'] == 'Singlet'].copy()\n",
    "    \n",
    "    # 4. Clustering\n",
    "    print(\"Step 4: Clustering...\")\n",
    "    sc.pp.normalize_total(adata, target_sum=1e4)\n",
    "    sc.pp.log1p(adata)\n",
    "    sc.pp.highly_variable_genes(adata, n_top_genes=2000)\n",
    "    sc.pp.scale(adata, max_value=10)\n",
    "    sc.tl.pca(adata, n_comps=40)\n",
    "    sc.pp.neighbors(adata, n_pcs=40)\n",
    "    sc.tl.leiden(adata, resolution=2.0)  # Match R resolution\n",
    "    sc.tl.umap(adata)\n",
    "    \n",
    "    # 5. Manual doublet curation\n",
    "    print(\"Step 5: Manual doublet curation...\")\n",
    "    kidney_markers = {\n",
    "        'Proximal_Tubule': ['Lrp2', 'Slc5a12', 'Slc13a3', 'Slc16a9'],\n",
    "        'Endothelial': ['Flt1', 'Emcn', 'Pecam1'],\n",
    "        'Fibroblast': ['Pdgfra', 'Col1a1'],\n",
    "        'TAL': ['Slc12a1', 'Cldn16', 'Cldn10']\n",
    "    }\n",
    "    \n",
    "    doublet_clusters, expr_matrix = identify_doublet_clusters(adata, kidney_markers)\n",
    "    \n",
    "    if doublet_clusters:\n",
    "        adata.obs['manual_doublet'] = adata.obs['leiden'].isin(doublet_clusters)\n",
    "        adata = adata[~adata.obs['manual_doublet']].copy()\n",
    "        \n",
    "        # Re-cluster after removing doublets\n",
    "        sc.tl.leiden(adata, resolution=2.0)\n",
    "    \n",
    "    # 6. Cell type annotation\n",
    "    print(\"Step 6: Annotating cell types...\")\n",
    "    adata = annotate_kidney_cells(adata)\n",
    "    \n",
    "    # 7. Generate visualizations\n",
    "    print(\"Step 7: Creating visualizations...\")\n",
    "    \n",
    "    # UMAP plots\n",
    "    sc.pl.umap(adata, color=['subclass', 'class', 'type'], \n",
    "               legend_loc='right', save=f'_{sample_name}_annotation.pdf')\n",
    "    \n",
    "    # Dotplot\n",
    "    create_kidney_dotplot(adata, groupby='subclass', \n",
    "                         save_path=f'{sample_name}_dotplot.pdf')\n",
    "    \n",
    "    # 8. Find markers\n",
    "    print(\"Step 8: Finding markers...\")\n",
    "    find_all_markers(adata, groupby='subclass')\n",
    "    \n",
    "    # 9. Generate QC report\n",
    "    print(\"Step 9: Generating QC report...\")\n",
    "    report = generate_qc_report(adata, sample_name)\n",
    "    print(f\"QC report generated for {sample_name} after step 9: {report}\")\n",
    "    # 10. Save final object\n",
    "    print(\"Step 10: Saving results...\")\n",
    "    date = datetime.datetime(2025, 10, 18)\n",
    "    adata.write_h5ad(f\"{date}_{sample_name}_annotated.h5ad\")\n",
    "    \n",
    "    print(\"Analysis complete!\")\n",
    "    return adata\n",
    "\n",
    "# Run the complete pipeline\n",
    "adata_final = complete_kidney_analysis_pipeline(filtered, \"Kidney_7\", raw)"
   ]
  },
  {
   "cell_type": "markdown",
   "id": "4470d547",
   "metadata": {},
   "source": []
  }
 ],
 "metadata": {
  "kernelspec": {
   "display_name": "scQC",
   "language": "python",
   "name": "python3"
  },
  "language_info": {
   "codemirror_mode": {
    "name": "ipython",
    "version": 3
   },
   "file_extension": ".py",
   "mimetype": "text/x-python",
   "name": "python",
   "nbconvert_exporter": "python",
   "pygments_lexer": "ipython3",
   "version": "3.13.9"
  }
 },
 "nbformat": 4,
 "nbformat_minor": 5
}
